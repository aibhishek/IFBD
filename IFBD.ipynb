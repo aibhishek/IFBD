{
 "cells": [
  {
   "cell_type": "code",
   "execution_count": 1,
   "metadata": {},
   "outputs": [],
   "source": [
    "import pandas as pd\n",
    "import numpy as np\n",
    "import seaborn as sns\n",
    "import matplotlib.pyplot as plt\n",
    "import io\n",
    "import requests"
   ]
  },
  {
   "cell_type": "code",
   "execution_count": 2,
   "metadata": {
    "scrolled": false
   },
   "outputs": [],
   "source": [
    "#df = pd.read_csv('laptops.csv', encoding = \"ISO-8859-1\")\n",
    "url = 'https://raw.githubusercontent.com/aibhishek/IFBD/master/laptops.csv'\n",
    "s=requests.get(url).content\n",
    "df=pd.read_csv(url, encoding = \"ISO-8859-1\", error_bad_lines=False)"
   ]
  },
  {
   "cell_type": "code",
   "execution_count": 5,
   "metadata": {},
   "outputs": [
    {
     "data": {
      "text/plain": [
       "Index(['Unnamed: 0', 'Company', 'Product', 'TypeName', 'Inches',\n",
       "       'ScreenResolution', 'Cpu', 'Ram', 'Memory', 'Gpu', 'OpSys', 'Weight',\n",
       "       'Price_euros'],\n",
       "      dtype='object')"
      ]
     },
     "execution_count": 5,
     "metadata": {},
     "output_type": "execute_result"
    }
   ],
   "source": [
    "df.columns"
   ]
  },
  {
   "cell_type": "markdown",
   "metadata": {},
   "source": [
    "#### Splitting CPU"
   ]
  },
  {
   "cell_type": "code",
   "execution_count": 9,
   "metadata": {},
   "outputs": [],
   "source": [
    "df.Cpu = df.Cpu.replace({'Intel Atom x5-Z8350 1.44GHz': 'Intel Atom x5-Z8350 1.4GHz', 'Intel Celeron Dual Core N3060 1.60GHz': 'Intel Celeron Dual Core N3060 1.6GHz', 'Intel Atom Z8350 1.92GHz': 'Intel Atom Z8350 1.9GHz', 'Intel Core i5 7200U 2.50GHz': 'Intel Core i5 7200U 2.5GHz','Intel Core i5 7200U 2.70GHz':'Intel Core i5 7200U 2.7GHz','Intel Atom X5-Z8350 1.44GHz': 'Intel Atom X5-Z8350 1.4GHz', 'Intel Core i5 7200U 2.50GHz': 'Intel Core i5 7200U 2.5GHz','Intel Atom x5-Z8300 1.44GHz':'Intel Atom x5-Z8300 1.4GHz','Intel Core i7 6500U 2.50GHz':'Intel Core i7 6500U 2.5GHz'})"
   ]
  },
  {
   "cell_type": "code",
   "execution_count": 10,
   "metadata": {},
   "outputs": [],
   "source": [
    "df['CPU Frequency'] = df.Cpu.str[-6:]\n",
    "df['CPU Frequency'] = df['CPU Frequency'].str[0:3]\n",
    "df['CPU Frequency'] = df['CPU Frequency'].replace({'U 2':'2.0','6 3':'3.0','0 3':'3.0','P 3':'3.0','0 2':'2.0'})\n",
    "df['CPU Frequency'] = pd.to_numeric(df['CPU Frequency'], errors='coerce')"
   ]
  },
  {
   "cell_type": "code",
   "execution_count": 11,
   "metadata": {},
   "outputs": [
    {
     "data": {
      "text/plain": [
       "array([2.3 , 1.8 , 2.5 , 2.7 , 3.1 , 3.  , 2.2 , 1.6 , 2.  , 2.8 , 1.2 ,\n",
       "       2.9 , 2.4 , 1.4 , 1.5 , 1.9 , 1.1 , 0.44, 1.3 , 2.6 , 3.6 , 3.2 ,\n",
       "       1.  , 2.1 , 0.9 ])"
      ]
     },
     "execution_count": 11,
     "metadata": {},
     "output_type": "execute_result"
    }
   ],
   "source": [
    "df['CPU Frequency'].unique()"
   ]
  },
  {
   "cell_type": "code",
   "execution_count": 12,
   "metadata": {},
   "outputs": [],
   "source": [
    "df.Cpu = df.Cpu.str[0:13]"
   ]
  },
  {
   "cell_type": "code",
   "execution_count": 14,
   "metadata": {},
   "outputs": [],
   "source": [
    "df.Cpu = df.Cpu.replace({'AMD A10-Serie':'AMD A10-Series','AMD A12-Serie':'AMD A12-Series','Samsung Corte':'Samsung Cortex'})"
   ]
  },
  {
   "cell_type": "code",
   "execution_count": 48,
   "metadata": {},
   "outputs": [],
   "source": [
    "#df"
   ]
  },
  {
   "cell_type": "code",
   "execution_count": 37,
   "metadata": {},
   "outputs": [
    {
     "data": {
      "text/plain": [
       "array([ 128,  256,  512,  500, 1000,   32, 1128,   64, 1256, 2256, 2000,\n",
       "       1512,  756, 2128,   16, 2512, 1064,  180,  240,    8,  508],\n",
       "      dtype=int64)"
      ]
     },
     "execution_count": 37,
     "metadata": {},
     "output_type": "execute_result"
    }
   ],
   "source": [
    "df[\"Memory Capacity in GB\"].unique()"
   ]
  },
  {
   "cell_type": "markdown",
   "metadata": {},
   "source": [
    "#### Converting Memory to numeric"
   ]
  },
  {
   "cell_type": "code",
   "execution_count": 24,
   "metadata": {},
   "outputs": [],
   "source": [
    "df.Memory = df.Memory.replace({'128GB SSD +  2TB HDD':'2128GB Hybrid',\n",
    "                               '256GB SSD +  256GB SSD':'500GB SSD',\n",
    "                               '256GB SSD +  2TB HDD':'2256GB Hybrid',\n",
    "                              '512GB SSD +  1TB HDD':'1512GB Hybrid',\n",
    "                              '256GB SSD +  500GB HDD':'756GB Hybrid',\n",
    "                              '128GB SSD +  2TB HDD':'2128GB Hybrid',\n",
    "                              '512GB SSD +  512GB SSD':'1TB SSD',\n",
    "                              '512GB SSD +  256GB SSD':'756GB SSD',\n",
    "                              '512GB SSD +  2TB HDD':'2512GB Hybrid',\n",
    "                              '64GB Flash Storage +  1TB HDD':'1064GB Hybrid',\n",
    "                              '1TB HDD +  1TB HDD':'2000GB HDD',\n",
    "                              '512GB SSD +  1.0TB Hybrid':'1512GB Hybrid',\n",
    "                              '256GB SSD +  1.0TB Hybrid':'1256GB Hybrid',\n",
    "                              '128GB SSD +  1TB HDD':'1128GB Hybrid',\n",
    "                              '256GB SSD +  1TB HDD':'1256GB Hybrid',\n",
    "                              '1TB SSD +  1TB HDD':'2000GB Hybrid'\n",
    "                              \n",
    "                              })"
   ]
  },
  {
   "cell_type": "code",
   "execution_count": 26,
   "metadata": {},
   "outputs": [],
   "source": [
    "df.Memory = df.Memory.replace({'1TB HDD':'1000GB HDD','2TB HDD':'2000GB HDD','1.0TB Hybrid':'1000GB Hybrid','1TB SSD':'1000GB SSD','1.0TB HDD':'1000GB HDD'})"
   ]
  },
  {
   "cell_type": "code",
   "execution_count": 29,
   "metadata": {},
   "outputs": [],
   "source": [
    "new = df.Memory.str.split(\" \", n = 1, expand = True) \n",
    "df[\"Memory Capacity in GB\"]= new[0]\n",
    "df[\"Memory Type\"]= new[1] "
   ]
  },
  {
   "cell_type": "code",
   "execution_count": 31,
   "metadata": {},
   "outputs": [],
   "source": [
    "# Dropping Memory column\n",
    "df = df.drop('Memory',axis=1)\n",
    "new = df[\"Memory Capacity in GB\"].str.split(\"G\", n = 1, expand = True) \n",
    "df[\"Memory Capacity in GB\"]= new[0]\n",
    "df[\"Memory Capacity in GB\"] = pd.to_numeric(df[\"Memory Capacity in GB\"])"
   ]
  },
  {
   "cell_type": "code",
   "execution_count": 43,
   "metadata": {},
   "outputs": [
    {
     "data": {
      "text/plain": [
       "array([ 8, 16,  4,  2, 12,  6, 32, 24, 64], dtype=int64)"
      ]
     },
     "execution_count": 43,
     "metadata": {},
     "output_type": "execute_result"
    }
   ],
   "source": [
    "df[\"RAM (GB)\"].unique()"
   ]
  },
  {
   "cell_type": "markdown",
   "metadata": {},
   "source": [
    "#### Convertinh RAM to numeric"
   ]
  },
  {
   "cell_type": "code",
   "execution_count": 40,
   "metadata": {},
   "outputs": [],
   "source": [
    "new = df[\"Ram\"].str.split(\"G\", n = 1, expand = True) \n",
    "df[\"RAM (GB)\"]= new[0]\n",
    "df[\"RAM (GB)\"] = pd.to_numeric(df[\"RAM (GB)\"])\n",
    "df[\"RAM (GB)\"] = pd.to_numeric(df[\"RAM (GB)\"])\n",
    "df = df.drop('Ram', axis=1)"
   ]
  },
  {
   "cell_type": "code",
   "execution_count": null,
   "metadata": {},
   "outputs": [],
   "source": []
  },
  {
   "cell_type": "code",
   "execution_count": null,
   "metadata": {},
   "outputs": [],
   "source": []
  },
  {
   "cell_type": "code",
   "execution_count": null,
   "metadata": {},
   "outputs": [],
   "source": []
  },
  {
   "cell_type": "code",
   "execution_count": null,
   "metadata": {},
   "outputs": [],
   "source": []
  },
  {
   "cell_type": "code",
   "execution_count": null,
   "metadata": {},
   "outputs": [],
   "source": []
  },
  {
   "cell_type": "code",
   "execution_count": null,
   "metadata": {},
   "outputs": [],
   "source": []
  },
  {
   "cell_type": "code",
   "execution_count": null,
   "metadata": {},
   "outputs": [],
   "source": []
  },
  {
   "cell_type": "code",
   "execution_count": null,
   "metadata": {},
   "outputs": [],
   "source": []
  },
  {
   "cell_type": "markdown",
   "metadata": {},
   "source": [
    "### <p style = \"color:red\">Visualisations</p>"
   ]
  },
  {
   "cell_type": "markdown",
   "metadata": {},
   "source": [
    "### Matplotlib"
   ]
  },
  {
   "cell_type": "code",
   "execution_count": 16,
   "metadata": {},
   "outputs": [],
   "source": [
    "import matplotlib.pyplot as plt"
   ]
  },
  {
   "cell_type": "code",
   "execution_count": 17,
   "metadata": {},
   "outputs": [
    {
     "data": {
      "image/png": "[encoded data removed]",
      "text/plain": [
       "<Figure size 432x288 with 1 Axes>"
      ]
     },
     "metadata": {
      "needs_background": "light"
     },
     "output_type": "display_data"
    }
   ],
   "source": [
    "fig = plt.figure()\n",
    "ax = fig.add_axes([0,0,1,1])\n",
    "ax.bar(df.Company,df.Price_euros)\n",
    "plt.xticks(rotation=90)\n",
    "plt.show()"
   ]
  },
  {
   "cell_type": "code",
   "execution_count": null,
   "metadata": {},
   "outputs": [],
   "source": []
  }
 ],
 "metadata": {
  "kernelspec": {
   "display_name": "Python 3",
   "language": "python",
   "name": "python3"
  },
  "language_info": {
   "codemirror_mode": {
    "name": "ipython",
    "version": 3
   },
   "file_extension": ".py",
   "mimetype": "text/x-python",
   "name": "python",
   "nbconvert_exporter": "python",
   "pygments_lexer": "ipython3",
   "version": "3.7.3"
  }
 },
 "nbformat": 4,
 "nbformat_minor": 2
}
